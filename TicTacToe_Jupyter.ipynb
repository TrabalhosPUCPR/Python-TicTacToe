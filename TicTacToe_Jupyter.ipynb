{
  "cells": [
    {
      "cell_type": "markdown",
      "metadata": {
        "id": "view-in-github",
        "colab_type": "text"
      },
      "source": [
        "<a href=\"https://colab.research.google.com/github/TrabalhosPUCPR/Python-TicTacToe/blob/master/TicTacToe_Jupyter.ipynb\" target=\"_parent\"><img src=\"https://colab.research.google.com/assets/colab-badge.svg\" alt=\"Open In Colab\"/></a>"
      ]
    },
    {
      "cell_type": "markdown",
      "source": [
        "# Jogo da Velha em Python\n",
        "\n",
        "Implementação em python de um jogo da velha para qualquer tamanho de tabuleiro e inteligência artificial\n",
        "\n",
        "Cada parte do codigo foi separado em diferentes blocos aqui no colab para facilitar a leitura de cada parte individual da implementação...\n",
        "\n",
        "A implementação inteira é formada por:\n",
        "\n",
        "- TicTacToe: Essa classe é responsável por armazenar os quadrados do campo em uma lista, setar um novo quadrado em um dos index desta lista e verificar se alguem ganhou e empatou, além de ter outras funções para informar sobre uma posição específica do tabuleiro\n",
        "\n",
        "- TicTacToeGame: Essa classe é responsável por controlar o tabuleiro (classe TicTacToe), ela gerencia o que cada jogador é, recebe qual será a jogada dos jogadores e chama as funções do tabuleiro. De forma geral, ela controla o fluxo do jogo\n",
        "\n",
        "- Player: Essa classe é a classe usada pra um jogador, ela possui as informações que um jogador teria, como o nome, e o seu símbolo, e possui a função act() que serve para pegar a coordenada escolhida pelo jogador para colocar no campo\n",
        "\n",
        "- Ai: Essa classe possui as mesmas informações herdadas da classe Player (simbolo, nome, e a função act), então ela é do tipo player já que ela também retorna coordenadas para fazer uma jogada. Nessa classe possui toda a lógica para ela decidir qual a melhor jogada fazer, usando algoritmo minmax com poda alpha-beta, usando também uma heurística criada por uma função interna\n",
        "\n",
        "\n",
        "Essas são as classes principais mais importantes para toda a implementação, para uma explicação com mais detalhes sobre cada um, você pode acessar a área de cada parte abaixo.\n",
        "\n",
        "Uma breve explicação foi feita dentro do bloco de cada parte.\n",
        "\n",
        "Pra jogar o jogo, você pode executar todas as células juntas, ou rodar apenas [o último bloco de código](#scrollTo=MZM4aMDWsM-_&line=1&uniqifier=1).\n",
        "\n",
        "\n",
        "Clique no link para pular para partes do codigo:\n",
        "\n",
        "- [Logger dos turnos](#scrollTo=gyzw3WI0sM-0)\n",
        "\n",
        "- [Classe que possui a logica do campo](#scrollTo=_p80YRw3sM-8)\n",
        "\n",
        "- [Classe do jogador humano](#scrollTo=EJN62o0YsM-3)\n",
        "\n",
        "- [Classe da Inteligencia artificial](#scrollTo=qise7rUssM-5)\n",
        "\n",
        "- [Classe controladora do campo do jogo](#scrollTo=pTZYwm3FsM--)\n",
        "\n",
        "- [Execução do jogo](#scrollTo=MZM4aMDWsM-_&line=1&uniqifier=1)\n"
      ],
      "metadata": {
        "collapsed": false,
        "id": "zV8AU5CLsM-x"
      }
    },
    {
      "cell_type": "markdown",
      "source": [
        "## Classe para armazenar e imprimir informações sobre o turno"
      ],
      "metadata": {
        "collapsed": false,
        "id": "gyzw3WI0sM-0"
      }
    },
    {
      "cell_type": "markdown",
      "source": [
        "Classe para guardar os logs dos turnos. \n",
        "\n",
        "Ele guarda: \n",
        "- O tempo de inicio e fim de uma jogada em segundos\n",
        "- Qual o numero do jogador que fez a jogada\n",
        "- A coordenada que foi feita a jogada\n",
        "- O estado do jogo após a jogada\n",
        "- O número total de jogadas\n",
        "\n",
        "E na hora que ele é convertido para string, ele passa todas essas informações"
      ],
      "metadata": {
        "id": "mA4TBKKJrAN8"
      }
    },
    {
      "cell_type": "code",
      "execution_count": 2,
      "outputs": [],
      "source": [
        "from datetime import datetime, timedelta\n",
        "\n",
        "class TurnLogger:\n",
        "    def __init__(self):\n",
        "        self.logs = []\n",
        "        self.start_time = datetime.now()\n",
        "        self.end_time = datetime.now()\n",
        "        self.player_n_turn = 0\n",
        "        self.latest_placed_coord = (0, 0)\n",
        "        self.game_state = TurnState.Continue\n",
        "        self.total_turns = 0\n",
        "\n",
        "    def restart_timer(self):\n",
        "        self.start_time = datetime.now()\n",
        "\n",
        "    def end_timer(self):\n",
        "        self.end_time = datetime.now()\n",
        "\n",
        "    def elapsed_time(self) -> timedelta:\n",
        "        return self.end_time - self.start_time\n",
        "\n",
        "    def __str__(self):\n",
        "        string = f\"Turn: {self.total_turns}\\nPlayer: {self.player_n_turn}\\nPlaced coordinates: x={self.latest_placed_coord[0]}; y={self.latest_placed_coord[1]}\\nGame State: {TurnState.to_string(self.game_state)}\\nElapsed Time: {self.elapsed_time().total_seconds()}\"\n",
        "        self.logs.append(string)\n",
        "        return string\n"
      ],
      "metadata": {
        "ExecuteTime": {
          "end_time": "2023-05-30T22:01:05.742242936Z",
          "start_time": "2023-05-30T22:01:05.668731253Z"
        },
        "id": "KzHZB20JsM-1"
      }
    },
    {
      "cell_type": "markdown",
      "source": [
        "## Classe que controla o logica backend do jogo"
      ],
      "metadata": {
        "collapsed": false,
        "id": "_p80YRw3sM-8"
      }
    },
    {
      "cell_type": "markdown",
      "source": [
        "### Square State"
      ],
      "metadata": {
        "id": "OUE6xIHorIzX"
      }
    },
    {
      "cell_type": "markdown",
      "source": [
        "Essa classe realmente é meio desnecessária, mas como no rust eu usei um enum que guardava um char qnd era to tipo filled, eu trouxe algo parecido pra essa versaoem python, mas nessa versao e quase igual a so usa 0,1,2 pra representa cada coisa\n",
        "\n",
        "\n",
        "De qlqr maneira, essa classe e instancializada toda vez e a gente usa ela observandoa variavel symbol, que vai ser None caso estiver vazio, ou guardar o simbolo que foi posicionado nela como um character"
      ],
      "metadata": {
        "id": "VIromlSIrSZ6"
      }
    },
    {
      "cell_type": "code",
      "source": [
        "class SquareState:\n",
        "    def __init__(self, symbol=None):\n",
        "        self.symbol = symbol\n",
        "\n",
        "    def is_none(self):\n",
        "        return self.symbol is None\n",
        "\n",
        "    def __eq__(self, other):\n",
        "        return self.symbol == other.symbol"
      ],
      "metadata": {
        "id": "Mhlr_npXrLzY"
      },
      "execution_count": 3,
      "outputs": []
    },
    {
      "cell_type": "markdown",
      "source": [
        "### Turn State"
      ],
      "metadata": {
        "id": "SesunQWPrMzz"
      }
    },
    {
      "cell_type": "markdown",
      "source": [
        "Turn state e so um enumerador pra representa um número que é o estado de jogo de forma que possa ser lido claramente, to to_string apenas pega em string cada um destes estados"
      ],
      "metadata": {
        "id": "FThG41jcrkck"
      }
    },
    {
      "cell_type": "code",
      "source": [
        "class TurnState:\n",
        "    Continue = 0\n",
        "    Draw = 1\n",
        "    Error = 2\n",
        "    Victory = 3\n",
        "\n",
        "    @staticmethod\n",
        "    def to_string(turn_state):\n",
        "        if turn_state == TurnState.Continue:\n",
        "            return \"Continue\"\n",
        "        elif turn_state == TurnState.Victory:\n",
        "            return \"Victory\"\n",
        "        elif turn_state == TurnState.Draw:\n",
        "            return \"Draw\"\n",
        "        else:\n",
        "            return \"Error\""
      ],
      "metadata": {
        "id": "ISe-Na6srYt1"
      },
      "execution_count": 4,
      "outputs": []
    },
    {
      "cell_type": "markdown",
      "source": [
        "### TicTacToe"
      ],
      "metadata": {
        "id": "BYtvFemqrZ9_"
      }
    },
    {
      "cell_type": "markdown",
      "source": [
        "Aqui que está a lógica real do campo do jogo da velha, ela guarda:\n",
        "- O tamanho do campo \n",
        "\n",
        "- Quantos quadrados seguidos será nescessário para alguém ganhar o jogo\n",
        "\n",
        "- A lista com seus quadrados\n",
        "\n",
        "- os caracteres a serem usados para desenhar na tela\n",
        "\n",
        "- Quantos quadrados foram preenchidos\n",
        "\n",
        "- O desenho do campo em formato de string para qualquer tamanho e qualquer preenchimento deste\n",
        "\n",
        "E tem as funções:\n",
        "- get_square / get_square_by_index: esta funcao recebe tanto um index ou uma coordenada de um quadrado do campo e retorna o SquareState dela, vazio ou nao\n",
        "\n",
        "- get_coord_index / get_index_coord: funcao helper apenas para converter um index para coordenada e vice-versa\n",
        "\n",
        "- set_square / set_square_from_index: funcao que serve para setar o SquareState passado como parametro na coordenada/index dado, ela retorna qual o estado do jogo após fazer isso, esse estado pode ser qualquer um, incluindo o estado de erro\n",
        "\n",
        "- check_game_over: responsável por ler os quadrados em volta do index dado como parâmetro e verificar se a partir do index houve alguma vitória, ou se teve empate\n",
        "\n",
        "- check_draw: verifica se houve empate, para fazer isso ele apenas verifica se a quantidade de quadrados preenchidos é igual ou não o tamanho total do campo\n",
        "\n",
        "- check_x / y / left_diag / right_diag: verifica quantos quadrados iguais ao do SquareState passado como parametro existe na sua linha/coluna/diagonais, estas funções são apenas contadores.  \n",
        "Ele basicamente verifica casa por casa que está ao lado do index dado, e verifica se é igual ou não, caso for, ele continua, se não, ele faz a mesma coisa, só que para o outro lado, então para o check_x(), ele verifica o lado direito 1 por 1, quando a distancia desta checagem igualar a distancia da sequencia minima para ganhar o jogo, ou ele encontrar um SquareState que não for igual, ele quebra este loop, e recomeça do lado esquerdo.   \n",
        "Estas funções também possuem diferentes modos:\n",
        "    - stop_counting: quando for True: para de contar caso encontrar um SquareState vazio ou com um simbolo diferente, quando for False: para de contar apenas se encontrar um simbolo do oponente, NÃO quando for vazio\n",
        "    - return_available_spaces: conta a quantidade de espaçoes disponíveis o SquareState tem e retorna\n",
        "\n",
        "O campo também possui algumas funções utilitárias que é especialmente útil pra criar a heurística do IA com uma maior quantidade de informações, estas são:\n",
        "\n",
        "- sum_squares_in_winnable_distance: conta quantos quadrados iguais ao do passado como parâmetro estão em uma distancia mínima para vitória a partir do index dado, esta função tem 2 modos dependendo se o return_highest é verdadeiro ou não:\n",
        "    - Verdadeiro: retorna apenas a soma de uma linha que possui a maior quantidade de quadrados iguais em uma distancia de vitória\n",
        "    - Falso: retorna a soma de quadrados iguais em todas as direções\n",
        "\n",
        "- check_n_of_available_axis: retorna a quantidade de direções que a partir do index dado como parâmetro é possível obter vitória\n",
        "\n",
        "- spaces_of_around: verifica quantos quadrados em volta do index é igual ao SquareState passado como parâmetro, a maneira que ele faz isso é pegando primeiro os quadrados da direita e esquerda, depois verifica o de cima e de baixo da esquerda para a direita\n"
      ],
      "metadata": {
        "id": "KS1m7h1or-SH"
      }
    },
    {
      "cell_type": "code",
      "execution_count": 5,
      "outputs": [],
      "source": [
        "class TicTacToe:\n",
        "\n",
        "    def __init__(self, x_size=3, y_size=3, seq_to_win=3, empty_symbol=' ', horizontal_spacer='─', vertical_spacer='│',\n",
        "                 cross_spacer=\"┼\"):\n",
        "        self.x_size = x_size\n",
        "        self.y_size = y_size\n",
        "        self.squares = [SquareState(None) for _ in range(x_size * y_size)]\n",
        "        self.seq_to_win = seq_to_win\n",
        "        self.filled = 0\n",
        "        self.empty_symbol = empty_symbol\n",
        "        self.horizontal_spacer = horizontal_spacer\n",
        "        self.cross_spacer = cross_spacer\n",
        "        self.vertical_spacer = vertical_spacer\n",
        "\n",
        "    def __str__(self):\n",
        "        def add_col_margin(s, col_margin):\n",
        "            s += \" \" * col_margin\n",
        "            return s\n",
        "\n",
        "        def add_line_margin(s, line_margin):\n",
        "            s += \" \" * (line_margin - 1)\n",
        "            return s\n",
        "\n",
        "        s = \"\\n\"\n",
        "        lane = 1\n",
        "        col_margin = len(str(self.y_size)) + 4\n",
        "        if col_margin % 2 == 0:\n",
        "            col_margin += 1\n",
        "        line_margin = len(str(self.x_size))\n",
        "        col = 1\n",
        "        s = add_col_margin(s, col_margin // 2)\n",
        "        for i in range(self.x_size * 3):\n",
        "            if i % 3 == 0:\n",
        "                s += f\" {col}\"\n",
        "                col += 1\n",
        "            else:\n",
        "                s += \" \"\n",
        "        s += f\"\\n{lane}-\"\n",
        "        s = add_line_margin(s, line_margin)\n",
        "        for i in range(len(self.squares)):\n",
        "            if self.squares[i].is_none():\n",
        "                s += f\" {self.empty_symbol} \"\n",
        "            else:\n",
        "                s += f\" {self.squares[i].symbol} \"\n",
        "            if (i > 0) and ((i + 1) % self.x_size == 0) and not (lane == self.y_size):\n",
        "                s += \"\\n\"\n",
        "                s = add_col_margin(s, col_margin // 2)\n",
        "                for i in range(self.x_size * 3 + self.x_size - 1):\n",
        "                    if (i + 1) % 4 == 0:\n",
        "                        s += self.cross_spacer\n",
        "                    else:\n",
        "                        s += self.horizontal_spacer\n",
        "                lane += 1\n",
        "                s += f\"\\n{lane}-\"\n",
        "                s = add_line_margin(s, line_margin)\n",
        "                if len(str(lane + 1)) > len(str(lane)):\n",
        "                    line_margin -= 1\n",
        "            elif i < len(self.squares) - 1:\n",
        "                s += self.vertical_spacer\n",
        "        return s\n",
        "\n",
        "    def get_square(self, x: int, y: int) -> SquareState:\n",
        "        return self.squares[self.get_coord_index(x, y)]\n",
        "\n",
        "    def get_coord_index(self, x, y) -> int:\n",
        "        return int(x + self.x_size * y)\n",
        "\n",
        "    def get_index_coord(self, index):\n",
        "        return index % self.x_size, int(index / self.x_size)\n",
        "\n",
        "    def set_square(self, x: int, y: int, state: SquareState):\n",
        "        i = self.get_coord_index(x, y)\n",
        "        return self.set_square_from_index(i, state)\n",
        "\n",
        "    def set_square_from_index(self, index: int, square_state: SquareState):\n",
        "        if index >= len(self.squares) or not self.squares[index].is_none():\n",
        "            return TurnState.Error\n",
        "        self.squares[index] = square_state\n",
        "        self.filled += 1\n",
        "        coord = self.get_index_coord(index)\n",
        "        return self.check_game_over(coord[0], coord[1], square_state)\n",
        "\n",
        "    def check_game_over(self, x: int, y: int, state: SquareState):\n",
        "        if self.filled >= self.seq_to_win + 2 and \\\n",
        "                ((self.check_x(x, y, state, True, False) >= self.seq_to_win) or\n",
        "                 (self.check_y(x, y, state, True, False) == self.seq_to_win) or\n",
        "                 (self.check_left_diag(x, y, state, True, False) == self.seq_to_win) or\n",
        "                 (self.check_right_diag(x, y, state, True, False) == self.seq_to_win)):\n",
        "            return TurnState.Victory\n",
        "        if self.check_draw():\n",
        "            return TurnState.Draw\n",
        "        return TurnState.Continue\n",
        "\n",
        "    def check_x(self, x: int, y: int, state: SquareState, stop_counting: bool, return_available_spaces: bool) -> int:\n",
        "        available_spaces_count = 1\n",
        "        seq_count = 1\n",
        "        for i in [1, -1]:\n",
        "            dist = i\n",
        "            while 0 <= x + dist < self.x_size and dist * i  < self.seq_to_win:\n",
        "                square_state = self.get_square(x + dist, y)\n",
        "                if not square_state.is_none():\n",
        "                    if square_state == state:\n",
        "                        seq_count += 1\n",
        "                    else:\n",
        "                        break\n",
        "                elif stop_counting:\n",
        "                    break\n",
        "                dist += i\n",
        "                available_spaces_count += 1\n",
        "        if return_available_spaces:\n",
        "            return available_spaces_count\n",
        "        elif not stop_counting or seq_count >= self.seq_to_win:\n",
        "            return seq_count\n",
        "        else:\n",
        "            return 1\n",
        "\n",
        "    def check_y(self, x: int, y: int, state: SquareState, stop_counting: bool, return_available_spaces: bool) -> int:\n",
        "        available_spaces_count = 1\n",
        "        seq_count = 1\n",
        "        for i in [1, -1]:\n",
        "            dist = i\n",
        "            while 0 <= y + dist < self.y_size and dist * i  < self.seq_to_win:\n",
        "                square_state = self.get_square(x, y + dist)\n",
        "                if not square_state.is_none():\n",
        "                    if square_state == state:\n",
        "                        seq_count += 1\n",
        "                    else:\n",
        "                        break\n",
        "                elif stop_counting:\n",
        "                    break\n",
        "                dist += i\n",
        "                available_spaces_count += 1\n",
        "        if return_available_spaces:\n",
        "            return available_spaces_count\n",
        "        elif not stop_counting or seq_count >= self.seq_to_win:\n",
        "            return seq_count\n",
        "        else:\n",
        "            return 1\n",
        "\n",
        "    def check_left_diag(self, x: int, y: int, state: SquareState, stop_counting: bool, return_available_spaces: bool) -> int:\n",
        "        available_spaces_count = 1\n",
        "        seq_count = 1\n",
        "        for i in [1, -1]:\n",
        "            dist = i\n",
        "            while 0 <= y + dist < self.y_size and 0 <= x + dist < self.x_size and dist * i < self.seq_to_win:\n",
        "                square_state = self.get_square(x + dist, y + dist)\n",
        "                if not square_state.is_none():\n",
        "                    if square_state == state:\n",
        "                        seq_count += 1\n",
        "                    else:\n",
        "                        break\n",
        "                elif stop_counting:\n",
        "                    break\n",
        "                dist += i\n",
        "                available_spaces_count += 1\n",
        "        if return_available_spaces:\n",
        "            return available_spaces_count\n",
        "        elif not stop_counting or seq_count >= self.seq_to_win:\n",
        "            return seq_count\n",
        "        else:\n",
        "            return 1\n",
        "\n",
        "    def check_right_diag(self, x: int, y: int, state: SquareState, stop_counting: bool, return_available_spaces: bool) -> int:\n",
        "        available_spaces_count = 1\n",
        "        seq_count = 1\n",
        "        for i in [1, -1]:\n",
        "            dist = i\n",
        "            while 0 <= y + (dist*-1) < self.y_size and 0 <= x + dist < self.x_size and dist * i < self.seq_to_win:\n",
        "                square_state = self.get_square(x + dist, y + dist*-1)\n",
        "                if not square_state.is_none():\n",
        "                    if square_state == state:\n",
        "                        seq_count += 1\n",
        "                    else:\n",
        "                        break\n",
        "                elif stop_counting:\n",
        "                    break\n",
        "                dist += i\n",
        "                available_spaces_count += 1\n",
        "        if return_available_spaces:\n",
        "            return available_spaces_count\n",
        "        elif not stop_counting or seq_count >= self.seq_to_win:\n",
        "            return seq_count\n",
        "        else:\n",
        "            return 1\n",
        "\n",
        "    def check_draw(self):\n",
        "        return self.filled == len(self.squares)\n",
        "\n",
        "    def size(self):\n",
        "        return self.x_size * self.y_size\n",
        "\n",
        "    def get_square_by_index(self, index):\n",
        "        return self.squares[index]\n",
        "\n",
        "    def clear(self):\n",
        "        self.squares = [SquareState() for _ in range(self.x_size * self.y_size)]\n",
        "        self.filled = 0\n",
        "\n",
        "    def sum_squares_in_winnable_distance(self, index: int, square_state: SquareState, return_highest=False) -> int:\n",
        "        x, y = self.get_index_coord(index)\n",
        "        if return_highest:\n",
        "            count = [0, 0, 0, 0]\n",
        "            count[0] = self.check_x(x, y, square_state, False, False) - 1\n",
        "            count[1] = self.check_y(x, y, square_state, False, False) - 1\n",
        "            count[2] = self.check_left_diag(x, y, square_state, False, False) - 1\n",
        "            count[3] = self.check_right_diag(x, y, square_state, False, False) - 1\n",
        "            highest = count[0]\n",
        "            for i in range(1, len(count)):\n",
        "                if count[i] > highest:\n",
        "                    highest = count[i]\n",
        "            return int(highest)\n",
        "        else:\n",
        "            return int((self.check_x(x, y, square_state, False, False) +\n",
        "                        self.check_y(x, y, square_state, False, False) +\n",
        "                        self.check_left_diag(x, y, square_state, False, False) +\n",
        "                        self.check_right_diag(x, y, square_state, False, False)) - 4)\n",
        "\n",
        "    def check_n_of_available_axis(self, index: int, square_state: SquareState) -> int:\n",
        "        coord = self.get_index_coord(index)\n",
        "        axis = 0\n",
        "        if self.check_x(coord[0], coord[1], square_state, False, True) >= self.seq_to_win:\n",
        "            axis += 1\n",
        "        if self.check_y(coord[0], coord[1], square_state, False, True) >= self.seq_to_win:\n",
        "            axis += 1\n",
        "        if self.check_left_diag(coord[0], coord[1], square_state, False, True) >= self.seq_to_win:\n",
        "            axis += 1\n",
        "        if self.check_right_diag(coord[0], coord[1], square_state, False, True) >= self.seq_to_win:\n",
        "            axis += 1\n",
        "        return axis\n",
        "\n",
        "    def spaces_of_around(self, index: int, square_state: SquareState) -> int:\n",
        "        count = 0\n",
        "        x, y = self.get_index_coord(index)\n",
        "        if x - 1 >= 0:\n",
        "            if square_state == self.get_square(x-1, x):\n",
        "                count += 1\n",
        "        if x + 1 < self.x_size:\n",
        "            if square_state == self.get_square(x+1, y):\n",
        "                count += 1\n",
        "        if x != 0:\n",
        "            check_x = x - 1\n",
        "            spaces_to_check = 3\n",
        "        else:\n",
        "            check_x = 0\n",
        "            spaces_to_check = 2\n",
        "        for i in range(spaces_to_check):\n",
        "            if check_x + i < self.x_size:\n",
        "                if y - 1 >= 0:\n",
        "                    if square_state == self.get_square(check_x+i, y - 1):\n",
        "                        count += 1\n",
        "                if y + 1 < self.y_size:\n",
        "                    if square_state == self.get_square(check_x+i, y + 1):\n",
        "                        count += 1\n",
        "        return count\n"
      ],
      "metadata": {
        "ExecuteTime": {
          "end_time": "2023-05-30T22:01:05.803359464Z",
          "start_time": "2023-05-30T22:01:05.725398484Z"
        },
        "id": "FLlPFdfAsM-9"
      }
    },
    {
      "cell_type": "markdown",
      "source": [
        "## Classe dos jogadores"
      ],
      "metadata": {
        "collapsed": false,
        "id": "yBk3xmdjsM-3"
      }
    },
    {
      "cell_type": "markdown",
      "source": [
        "### Jogador humano"
      ],
      "metadata": {
        "collapsed": false,
        "id": "EJN62o0YsM-3"
      }
    },
    {
      "cell_type": "markdown",
      "source": [
        "Classe que pega como input a coluna e a linha que o jogador quer jogar, guarda:\n",
        "- O nome do jogador\n",
        "- O simbolo do jogador\n",
        "\n",
        "Sua única função é o act() que apenas devolve a coluna e a linha para jogar"
      ],
      "metadata": {
        "id": "Jn2HzPQDzl1J"
      }
    },
    {
      "cell_type": "code",
      "execution_count": 6,
      "outputs": [],
      "source": [
        "import abc\n",
        "\n",
        "\n",
        "class Player:\n",
        "    def __init__(self, name, square_symbol):\n",
        "        self.name = name\n",
        "        self.square_symbol = square_symbol\n",
        "\n",
        "    @abc.abstractmethod\n",
        "    def act(self, current_board: TicTacToe):\n",
        "        while True:\n",
        "            try:\n",
        "                col = int(input(f\"{self.name}'s turn, type the column of your next move\\ncolumn: \"))-1\n",
        "                line = int(input(f\"line: \"))-1\n",
        "            except ValueError:\n",
        "                print(\"Type a valid number\")\n",
        "                continue\n",
        "            if 0 < col < current_board.x_size and 0 < line < current_board.y_size and \\\n",
        "                    not current_board.get_square(col, line).is_none():\n",
        "                print(\"Invalid column or line number\")\n",
        "                continue\n",
        "            break\n",
        "        return col, line\n"
      ],
      "metadata": {
        "ExecuteTime": {
          "end_time": "2023-05-30T22:01:05.783769594Z",
          "start_time": "2023-05-30T22:01:05.690789053Z"
        },
        "id": "vLS9E2ocsM-4"
      }
    },
    {
      "cell_type": "markdown",
      "source": [
        "### Inteligencia Artificial\n",
        "\n"
      ],
      "metadata": {
        "collapsed": false,
        "id": "qise7rUssM-5"
      }
    },
    {
      "cell_type": "markdown",
      "source": [
        "#### Node"
      ],
      "metadata": {
        "id": "YuFij0-vyE3w"
      }
    },
    {
      "cell_type": "markdown",
      "source": [
        "Essa classe não é tão nescessária assim também, é apenas uma forma mais fácil de representar um valor, que possui uma heurística ou um score"
      ],
      "metadata": {
        "id": "fbh6_IY20Tdp"
      }
    },
    {
      "cell_type": "code",
      "execution_count": 7,
      "outputs": [],
      "source": [
        "class Node:\n",
        "    def __init__(self, data, data_score=0.0):\n",
        "        self.data = data\n",
        "        self.data_score = data_score\n",
        "        self.children = []\n",
        "\n",
        "    def __lt__(self, other):\n",
        "        return self.data_score < other.data_score\n",
        "\n",
        "    def __le__(self, other):\n",
        "        return self.data_score <= other.data_score\n",
        "\n",
        "    def __gt__(self, other):\n",
        "        return self.data_score > other.data_score\n",
        "\n",
        "    def __ge__(self, other):\n",
        "        return self.data_score >= other.data_score\n",
        "\n",
        "    def is_terminal(self):\n",
        "        return len(self.children) == 0\n"
      ],
      "metadata": {
        "ExecuteTime": {
          "end_time": "2023-05-30T22:01:05.785104047Z",
          "start_time": "2023-05-30T22:01:05.701079448Z"
        },
        "id": "6nXqNrFNsM-6"
      }
    },
    {
      "cell_type": "markdown",
      "source": [
        "#### Logica do IA"
      ],
      "metadata": {
        "id": "-oMviD-muZHv"
      }
    },
    {
      "cell_type": "markdown",
      "source": [
        "Aqui está a racíocinio que o IA usa para decidir a jogada, ele herda da classe [Player](#scrollTo=EJN62o0YsM-3&line=1&uniqifier=1), então possui um nome, um simbolo, e a função act()\n",
        "\n",
        "Geral de como funciona: recebe o campo atual, e faz uma jogada para toda posição possivel e guarda em uma lista, para cada uma destas jogadas, ele da uma pontuação (score) baseado no quão boa é esta jogada, com tudo isso feito, ele corda esta lista caso o tamanho da lista exceda o tamanho máximo de filhos do IA e retorna esta lista esta lista entao é iterada, fazendo de maneira recursiva, a mesma coisa para todas as outras jogadas não ultrapassando o tamanho máximo de camadas do IA, quando isto termina, o IA vai começar a analizar qual a melhor jogada que cada jogador fará considerando que os dois estão jogando de forma ótima usando minmax com poda alpha-beta. Basicamente escolhendo qual jogada que levará para o melhor final.\n",
        "\n",
        "Algoritmo minmax não precisa ser explicado aqui, MAS a heurística precisa:\n",
        "\n",
        "O QUE FORMA A HEURISTÍCA (score):\n",
        "- attack_score: quantos quadrados da pessoa jogando estão em uma distância de vitória a partir da posição dada: Ex.![image_2023-05-31_003758351.png](https://media.discordapp.net/attachments/1113311058803830794/1113311076440866916/image.png?width=299&height=237)\n",
        "\n",
        "  Vamos dizer que o X em vermelho é a posição que está sendo analisada, conseguimos ver que tanto verticalmente, e horizontalmente, possui um X E estes dois estão com o potencial para ganhar o jogo, ja que possui espaço suficiente a partir deles para pegar 4 X seguidos, então o score de ataque final desta posição, é 2. Mas agora vamos analisar outro exemplo:![image_2023-05-31_003758351.png](https://media.discordapp.net/attachments/1113311058803830794/1113311298512506970/image.png?width=316&height=271)\n",
        "\n",
        "  Aqui, podemos observar que a partir do X vermelho, possuem outros 2 X na mesma diagonal, MAS, estes não estão em uma distância de vitória! Então não são contados, a mesma coisa aconteceria por exemplo, caso os X estivessem em uma distância MAIOR que a sequência mínima para ganhar. Então neste exemplo, o score de ataque, seria 0.\n",
        "\n",
        "- available_axis: quantidade de direções que a posição pode usar para ganhar o jogo, usando como exemplo a primeira imagem deste bloco:  \n",
        "A partir do X vermelho ele possui 2 eixos que podem ser usados para ganhar o jogo, verticalmente, e horizontalmente.  \n",
        "Mas agora olhando o segundo exemplo:\n",
        "Apenas 1 eixo está disponível, horizontalmente, pois verticalmente e diagonal está sendo bloqueado pelo oponente\n",
        "\n",
        "- total_defense_score: funciona da mesma maneira que o attack_score, a diferença é: ele usa o símbolo do oponente, desta forma ele consegue contar quantos símbolos que poderiam estar ligados ao oponente, se ele tivesse colocado neste index\n",
        "\n",
        "- empty_space_around_score: é apenas quantidade de espaços vazios que está em volta, CASO, o index estiver nas posições centrais das colunas e linhas nas pontas do campo, este valor é zerado\n",
        "\n",
        "Estas heurísticas também possuem prioridades, sendo que se o attack score for maior que outra jogada por exemplo, esta jogada terá prioridade\n",
        "\n",
        "atack_score possui prioridade normal\n",
        "\n",
        "total_defense_score e available_axis possui prioridade menor, então os dois são divididos por 10\n",
        "\n",
        "empty_spaces_around possui a menor prioridade, então é dividida por 100\n",
        "\n",
        "A heuristica final, é a soma de tudo isto divididos por 100, para ter menor prioridade de uma jogada que resulta em uma vitória\n",
        "\n",
        "Caso a jogada sendo analisada for uma jogada feito pelo IA, a heurística é positiva, caso for uma jogada do oponente, a heurística é negativa"
      ],
      "metadata": {
        "id": "DpeyLw_j0toV"
      }
    },
    {
      "cell_type": "code",
      "execution_count": 8,
      "outputs": [],
      "source": [
        "import copy\n",
        "\n",
        "\n",
        "class Ai(Player):\n",
        "\n",
        "    def __init__(self, player: Player, max_node_childs, max_layers, op_symbol):\n",
        "        super().__init__(player.name, player.square_symbol)\n",
        "        self.max_node_childs = max_node_childs\n",
        "        self.max_layers = max_layers\n",
        "        self.op_symbol = op_symbol\n",
        "\n",
        "    def act(self, current_board):\n",
        "        root = Node((current_board, 0, TurnState.Continue))\n",
        "        _, index = self.compute_moves(root, float('-inf'), float('inf'), self.max_layers, True)\n",
        "        return current_board.get_index_coord(index)\n",
        "\n",
        "    def compute_moves(self, current_node, alpha, beta, layer, maximizing):\n",
        "        if layer == 0 or current_node.data[2] != TurnState.Continue:\n",
        "            return current_node.data_score, current_node.data[1]\n",
        "        if maximizing:\n",
        "            best_move = (float('-inf'), 0)\n",
        "            for move in self.get_possible_moves(current_node.data[0], maximizing):\n",
        "                childs_best, _ = self.compute_moves(move, alpha, beta, layer-1, False)\n",
        "                if best_move[0] < childs_best:\n",
        "                    best_move = (childs_best, move.data[1])\n",
        "                alpha = max(alpha, childs_best)\n",
        "                if beta <= alpha:\n",
        "                    break\n",
        "            return best_move\n",
        "        else:\n",
        "            best_move = (float('inf'), 0)\n",
        "            for move in self.get_possible_moves(current_node.data[0], maximizing):\n",
        "                childs_best, _ = self.compute_moves(move, alpha, beta, layer-1, True)\n",
        "                if best_move[0] > childs_best:\n",
        "                    best_move = (childs_best, move.data[1])\n",
        "                beta = min(beta, childs_best)\n",
        "                if beta <= alpha:\n",
        "                    break\n",
        "            return best_move\n",
        "\n",
        "    def get_possible_moves(self, current_board: TicTacToe, maximizing):\n",
        "        moves = []\n",
        "        for index, square in enumerate(current_board.squares):\n",
        "            if square.is_none():\n",
        "                if maximizing:\n",
        "                    square_state = SquareState(self.square_symbol)\n",
        "                else:\n",
        "                    square_state = SquareState(self.op_symbol)\n",
        "                board_copy = copy.deepcopy(current_board)\n",
        "                possible_move_node = Node((board_copy, index, board_copy.set_square_from_index(index, square_state)))\n",
        "                if possible_move_node.data[2] == TurnState.Victory:\n",
        "                    if maximizing:\n",
        "                        possible_move_node.data_score = 1.0\n",
        "                    else:\n",
        "                        possible_move_node.data_score = -1.0\n",
        "                elif possible_move_node.data[2] == TurnState.Continue:\n",
        "                    possible_move_node.data_score = self.get_move_heuristic(possible_move_node.data[0], square_state,\n",
        "                                                                            index, maximizing)\n",
        "                moves.append(possible_move_node)\n",
        "        moves.sort(key=lambda x: x.data_score, reverse=maximizing)\n",
        "        if len(moves) > 0 and len(moves) > self.max_node_childs:\n",
        "            moves = moves[0:self.max_node_childs]\n",
        "        return moves\n",
        "\n",
        "    def get_move_heuristic(self, board: TicTacToe, square_state, index, maximizing) -> float:\n",
        "        attack_score = board.sum_squares_in_winnable_distance(index, square_state)\n",
        "        available_axis = board.check_n_of_available_axis(index, square_state)\n",
        "        if maximizing:\n",
        "            op_state = SquareState(self.op_symbol)\n",
        "        else:\n",
        "            op_state = SquareState(self.square_symbol)\n",
        "        total_defense_score = board.sum_squares_in_winnable_distance(index, op_state)\n",
        "        empty_space_around_score = board.spaces_of_around(index, SquareState())\n",
        "        if board.seq_to_win**2 < board.size():\n",
        "            highest_defense_score = board.sum_squares_in_winnable_distance(index, op_state, return_highest=True)\n",
        "            if (board.seq_to_win % 2 != 0 and highest_defense_score >= (board.seq_to_win / 2.0).__ceil__()) or \\\n",
        "                    (board.seq_to_win % 2 == 0 and highest_defense_score >= (board.seq_to_win - 2)):\n",
        "                total_defense_score *= 100\n",
        "        coord = board.get_index_coord(index)\n",
        "        if coord[1] == 0 or coord[1] == board.y_size-1:\n",
        "            if 0 < coord[0] < board.x_size-1:\n",
        "                empty_space_around_score = 0\n",
        "        elif coord[0] == 0 or coord[0] == board.x_size-1:\n",
        "            empty_space_around_score = 0\n",
        "        total_defense_score /= 10.0\n",
        "        heuristic = ((attack_score + total_defense_score + (available_axis/10.0)) +\n",
        "                     (empty_space_around_score / 100.0)) / 100.0\n",
        "        if maximizing:\n",
        "            return heuristic\n",
        "        else:\n",
        "            return -heuristic\n"
      ],
      "metadata": {
        "ExecuteTime": {
          "end_time": "2023-05-30T22:01:05.786086138Z",
          "start_time": "2023-05-30T22:01:05.711149691Z"
        },
        "id": "7HHYMAyGsM-6"
      }
    },
    {
      "cell_type": "markdown",
      "source": [
        "## Classe para o controle do jogo"
      ],
      "metadata": {
        "collapsed": false,
        "id": "pTZYwm3FsM--"
      }
    },
    {
      "cell_type": "markdown",
      "source": [
        "### GameState"
      ],
      "metadata": {
        "id": "HF-fX78j-LyU"
      }
    },
    {
      "cell_type": "markdown",
      "source": [
        "Mais uma classe que faz muito mais sentido ter no Rust do que no python, possui um enumerador representando o estado do jogo, e pode tambem ser instânciada, guardando este enumerador, e as informacoes do próximo jogador, junto com o seu número"
      ],
      "metadata": {
        "id": "6L3ZgaIf-YqV"
      }
    },
    {
      "cell_type": "code",
      "source": [
        "class GameState:\n",
        "    Begin = 0\n",
        "    PlayerTurn = 1\n",
        "    Finished = 2\n",
        "\n",
        "    def __init__(self, state, next_player: Player = None, next_player_n=None):\n",
        "        self.state = state\n",
        "        self.next_player = (next_player, next_player_n)"
      ],
      "metadata": {
        "id": "bOlJK_y7-ZfA"
      },
      "execution_count": 9,
      "outputs": []
    },
    {
      "cell_type": "markdown",
      "source": [
        "### TicTacToeGame"
      ],
      "metadata": {
        "id": "dVadw5TI-OsJ"
      }
    },
    {
      "cell_type": "markdown",
      "source": [
        "Classe que controla o campo, ela guarda:\n",
        "- Os dois jogadores, estes são da classe [Player](#scrollTo=EJN62o0YsM-3&line=1&uniqifier=1)\n",
        "- O [campo](#scrollTo=BYtvFemqrZ9_&line=1&uniqifier=1)\n",
        "- O estado do jogo\n",
        "\n",
        "As funções são:\n",
        "- setup_new_game_with_prompts: uma função apenas para configurar o jogo com prompts no terminal, mudando a dificuldade do IA, tamanho do campo, jogo com 1 player, 2, ou apenas com IA, etc.\n",
        "- load_x_game: retorna um jogo com a configuracao baseado em qual destas funções foi chamado \n",
        "- start_game: comeca o loop do jogo, pegando as coordenadas de cada jogador no seu turno, mudando, fazendo um log de cada turno, e printando mensagens baseado no estado do jogo, além de imprimir o campo\n",
        "- create_ai: apenas instância o [IA](#scrollTo=qise7rUssM-5&line=3&uniqifier=1) com as configurações baseado na dificuldade selecionada\n",
        "- change_size: muda o tamanho do campo"
      ],
      "metadata": {
        "id": "YU2-woT49hSK"
      }
    },
    {
      "cell_type": "code",
      "execution_count": 19,
      "metadata": {
        "collapsed": true,
        "ExecuteTime": {
          "end_time": "2023-05-30T22:01:05.803822904Z",
          "start_time": "2023-05-30T22:01:05.802418018Z"
        },
        "id": "KoLKda36sM-_"
      },
      "outputs": [],
      "source": [
        "from google.colab import output\n",
        "from time import sleep\n",
        "\n",
        "TITLE = \"\"\"\n",
        "  _______     _______      _______\n",
        " |__   __|   |__   __|    |__   __|\n",
        "    | |   _  ___| | __ _  ___| | ___   ___\n",
        "    | |  | |/ __| |/ _` |/ __| |/ _ \\\\ / _ \\\\\n",
        "    | |  | | (__| | (_| | (__| | (_) |  __/\n",
        "    |_|  |_|\\\\___|_|\\\\__,_|\\\\___|_|\\\\___/ \\\\___|\"\"\"\n",
        "AUTHOR = \"Gabrielle, Kovalski and Leonardo\"\n",
        "REPO_LINK = \"https://github.com/TrabalhosPUCPR/PythonTicTacToe\"\n",
        "\n",
        "\n",
        "class AiDifficulties: # enumerador para representar o nivel de dificuldade do ai, apenas limitando ainda mais a quantidade de camadas e jogadas para analisar\n",
        "    Easy = 0,\n",
        "    Medium = 1,\n",
        "    Hard = 2\n",
        "\n",
        "\n",
        "class TicTacToeGame:\n",
        "    def __init__(self, player1=Player(\"Player1\", 'X'), player2=Player(\"Player2\", 'O'), show_turn_info=True, overwrite_print=True):\n",
        "        self.player1 = player1\n",
        "        self.player2 = player2\n",
        "        self.board = TicTacToe()\n",
        "        self.show_turn_info = show_turn_info\n",
        "        self.game_state = GameState(GameState.Begin, next_player=player1, next_player_n=1)\n",
        "        self.overwrite_print = overwrite_print\n",
        "\n",
        "    def __str__(self):\n",
        "        if self.game_state.state == GameState.Begin or self.game_state.state == GameState.PlayerTurn:\n",
        "            return f\"\\n{self.game_state.next_player[0].name}'s turn!\\n\\n{self.board.__str__()}\\n\"\n",
        "        if self.game_state.state == GameState.Finished:\n",
        "            return f\"\\nGame is finished!\\n\\n{self.board.__str__()}\\n\"\n",
        "\n",
        "    @staticmethod\n",
        "    def setup_new_game_with_prompts():\n",
        "        while True:\n",
        "            print(f\"{TITLE}\\n\\nMade by {AUTHOR}\\n\\nRepo link: {REPO_LINK}\\n\\n\")\n",
        "            try:\n",
        "                choice = int(input(\"\\nPlease choose an option:\\n1-Load 1 player game\\n2-Load 2 player game\\n3-Load Ai \"\n",
        "                                   \"game\\n4-Exit\\n(default: 1): \"))\n",
        "            except ValueError:\n",
        "                choice = 1\n",
        "\n",
        "            if choice == 2:\n",
        "                game = TicTacToeGame.load_default_2player_game()\n",
        "            elif choice == 3:\n",
        "                game = TicTacToeGame.load_default_ai_game(AiDifficulties.Hard, AiDifficulties.Hard)\n",
        "            elif choice == 4:\n",
        "                return\n",
        "            else:\n",
        "                try:\n",
        "                    dif = int(input(\"\\nChoose a difficulty for the AI\\n1-Easy\\n2-Medium\\n3-Hard\\n(default: 3): \"))\n",
        "                except ValueError:\n",
        "                    dif = 3\n",
        "                game = TicTacToeGame.load_default_1player_game(dif - 1)\n",
        "            output.clear()\n",
        "            print(f\"\\nBoard size: {game.board.x_size}x{game.board.y_size}\\nSequence to win: {game.board.seq_to_win}\")\n",
        "            try:\n",
        "                choice = int(input(\"\\n1-Start Game\\n2-Configure Game\\n(default: 1): \"))\n",
        "            except ValueError:\n",
        "                choice = 1\n",
        "            if choice == 2:\n",
        "                output.clear()\n",
        "                while True:\n",
        "                    sleep(0.1)\n",
        "                    print(f\"\\nBoard size: {game.board.x_size}x{game.board.y_size}\\nSequence to win: {game.board.seq_to_win}\")\n",
        "                    try:\n",
        "                        choice = int(input(\"\\n1-Change board size\\n2-Debug Mode\\n3-Start Game\\n(default: 3): \"))\n",
        "                    except ValueError:\n",
        "                        choice = 3\n",
        "                    if choice == 1:\n",
        "                        size = int(input(\"\\nType the new board size: \"))\n",
        "                        seq = int(input(\"\\nType sequence length to win: \"))\n",
        "                        if not game.change_size(size, seq):\n",
        "                            print(\"\\nInvalid size or sequence length!\")\n",
        "                            continue\n",
        "                    elif choice == 2:\n",
        "                        if game.show_turn_info:\n",
        "                            print(\"\\nDebug Mode Deactivated!\")\n",
        "                            game.show_turn_info = False\n",
        "                            continue\n",
        "                        else:\n",
        "                            print(\"\\nDebug Mode Activated!\")\n",
        "                            game.show_turn_info = True\n",
        "                            continue\n",
        "                    else:\n",
        "                        output.clear()\n",
        "                        return game\n",
        "                    output.clear()\n",
        "            else:\n",
        "                break\n",
        "        return game\n",
        "\n",
        "    @staticmethod\n",
        "    def load_default_1player_game(ai_difficulty):\n",
        "        game = TicTacToeGame()\n",
        "        game.player2 = TicTacToeGame.create_ai(game.player2, game.player1.square_symbol, ai_difficulty)\n",
        "        return game\n",
        "\n",
        "    @staticmethod\n",
        "    def load_default_2player_game():\n",
        "        return TicTacToeGame()\n",
        "\n",
        "    @staticmethod\n",
        "    def load_default_ai_game(ai1_difficulty, ai2_difficulty):\n",
        "        game = TicTacToeGame()\n",
        "        game.player1 = TicTacToeGame.create_ai(game.player1, game.player2.square_symbol, ai1_difficulty)\n",
        "        game.player2 = TicTacToeGame.create_ai(game.player2, game.player1.square_symbol, ai2_difficulty)\n",
        "        game.game_state = GameState(GameState.Begin, next_player=game.player1, next_player_n=1)\n",
        "        return game\n",
        "\n",
        "    def start_game(self):\n",
        "        while True:\n",
        "          if self.overwrite_print:\n",
        "              output.clear()\n",
        "          turn_logger = TurnLogger()\n",
        "          print(self)\n",
        "          while self.game_state.state == GameState.Begin or self.game_state.state == GameState.PlayerTurn:\n",
        "              turn_logger.restart_timer()\n",
        "              x, y = self.game_state.next_player[0].act(self.board)\n",
        "              turn_logger.end_timer()\n",
        "              board_state = self.board.set_square(x, y, SquareState(symbol=self.game_state.next_player[0].square_symbol))\n",
        "              turn_logger.total_turns += 1\n",
        "              turn_logger.latest_placed_coord = (x, y)\n",
        "              turn_logger.player_n_turn = self.game_state.next_player[1]\n",
        "              turn_logger.game_state = board_state\n",
        "              if self.overwrite_print:\n",
        "                  output.clear()\n",
        "              if board_state == TurnState.Draw:\n",
        "                  print(f\"\\nAll spaces hae been filled! It's a draw!\")\n",
        "                  self.game_state.state = GameState.Finished\n",
        "              elif board_state == TurnState.Victory:\n",
        "                  print(f\"\\n{self.board.seq_to_win} in a row! {self.game_state.next_player[0].name} wins!\")\n",
        "                  self.game_state.state = GameState.Finished\n",
        "              elif board_state == TurnState.Error:\n",
        "                  print(f\"\\nPlease type a valid postition!\\n\\n{self}\")\n",
        "                  continue\n",
        "              else:\n",
        "                  self.game_state.state = GameState.PlayerTurn\n",
        "                  if self.game_state.next_player[1] == 1:\n",
        "                      self.game_state.next_player = (self.player2, 2)\n",
        "                  else:\n",
        "                      self.game_state.next_player = (self.player1, 1)\n",
        "              if self.show_turn_info:\n",
        "                  print(f\"\\nPrevious turn info:\\n{turn_logger}\")\n",
        "              print(self)\n",
        "          input(\"Press enter to exit...\")\n",
        "          break\n",
        "\n",
        "    @staticmethod\n",
        "    def create_ai(player, op_symbol, difficulty):\n",
        "        if difficulty == AiDifficulties.Easy:\n",
        "            max_childs = 7\n",
        "            max_layers = 1\n",
        "        elif difficulty == AiDifficulties.Medium:\n",
        "            max_childs = 6\n",
        "            max_layers = 2\n",
        "        else:\n",
        "            max_childs = 10\n",
        "            max_layers = 5\n",
        "        return Ai(player, max_childs, max_layers, op_symbol)\n",
        "\n",
        "    def change_size(self, size, seq_to_win):\n",
        "        if size < seq_to_win:\n",
        "            return False\n",
        "        self.board.x_size = size\n",
        "        self.board.y_size = size\n",
        "        self.board.seq_to_win = seq_to_win\n",
        "        self.board.squares = [SquareState() for _ in range(size**2)]\n",
        "        return self\n"
      ]
    },
    {
      "cell_type": "markdown",
      "source": [
        "## Criando o jogo, configurando e rodando\n",
        "\n",
        "- [Voltar para cima](#scrollTo=zV8AU5CLsM-x&line=17&uniqifier=1)"
      ],
      "metadata": {
        "collapsed": false,
        "id": "MZM4aMDWsM-_"
      }
    },
    {
      "cell_type": "code",
      "execution_count": 21,
      "outputs": [
        {
          "name": "stdout",
          "output_type": "stream",
          "text": [
            "\n",
            "  _______     _______      _______\n",
            " |__   __|   |__   __|    |__   __|\n",
            "    | |   _  ___| | __ _  ___| | ___   ___\n",
            "    | |  | |/ __| |/ _` |/ __| |/ _ \\ / _ \\\n",
            "    | |  | | (__| | (_| | (__| | (_) |  __/\n",
            "    |_|  |_|\\___|_|\\__,_|\\___|_|\\___/ \\___|\n",
            "\n",
            "Made by Gabrielle, Kovalski and Leonardo\n",
            "\n",
            "Repo link: https://github.com/TrabalhosPUCPR/PythonTicTacToe\n",
            "\n",
            "\n",
            "\n",
            "Please choose an option:\n",
            "1-Load 1 player game\n",
            "2-Load 2 player game\n",
            "3-Load Ai game\n",
            "4-Exit\n",
            "(default: 1): 4\n"
          ]
        }
      ],
      "source": [
        "game = TicTacToeGame.setup_new_game_with_prompts()\n",
        "if game is not None:\n",
        "  game.start_game()"
      ],
      "metadata": {
        "ExecuteTime": {
          "end_time": "2023-05-30T22:02:02.636775555Z",
          "start_time": "2023-05-30T22:01:05.802665320Z"
        },
        "id": "LVM8ArxZsM-_",
        "colab": {
          "base_uri": "https://localhost:8080/"
        },
        "outputId": "ae21cdc4-4a91-420b-cbc9-f3b1a2fa7981"
      }
    }
  ],
  "metadata": {
    "kernelspec": {
      "display_name": "Python 3",
      "language": "python",
      "name": "python3"
    },
    "language_info": {
      "codemirror_mode": {
        "name": "ipython",
        "version": 2
      },
      "file_extension": ".py",
      "mimetype": "text/x-python",
      "name": "python",
      "nbconvert_exporter": "python",
      "pygments_lexer": "ipython2",
      "version": "2.7.6"
    },
    "colab": {
      "provenance": [],
      "collapsed_sections": [
        "gyzw3WI0sM-0",
        "_p80YRw3sM-8",
        "yBk3xmdjsM-3",
        "YuFij0-vyE3w",
        "pTZYwm3FsM--"
      ],
      "include_colab_link": true
    }
  },
  "nbformat": 4,
  "nbformat_minor": 0
}